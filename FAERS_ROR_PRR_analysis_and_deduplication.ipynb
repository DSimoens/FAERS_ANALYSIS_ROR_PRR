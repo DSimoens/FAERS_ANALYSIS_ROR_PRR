{
 "cells": [
  {
   "cell_type": "code",
   "execution_count": 1,
   "id": "aebad5b8-d229-4770-873e-aa633a34cfa0",
   "metadata": {},
   "outputs": [
    {
     "name": "stdout",
     "output_type": "stream",
     "text": [
      "Requirement already satisfied: pandas in ./venv/lib/python3.13/site-packages (2.3.0)\n",
      "Requirement already satisfied: numpy in ./venv/lib/python3.13/site-packages (2.3.1)\n",
      "Requirement already satisfied: scipy in ./venv/lib/python3.13/site-packages (1.16.0)\n",
      "Requirement already satisfied: openpyxl in ./venv/lib/python3.13/site-packages (3.1.5)\n",
      "Requirement already satisfied: tqdm in ./venv/lib/python3.13/site-packages (4.67.1)\n",
      "Requirement already satisfied: python-dateutil>=2.8.2 in ./venv/lib/python3.13/site-packages (from pandas) (2.9.0.post0)\n",
      "Requirement already satisfied: pytz>=2020.1 in ./venv/lib/python3.13/site-packages (from pandas) (2025.2)\n",
      "Requirement already satisfied: tzdata>=2022.7 in ./venv/lib/python3.13/site-packages (from pandas) (2025.2)\n",
      "Requirement already satisfied: et-xmlfile in ./venv/lib/python3.13/site-packages (from openpyxl) (2.0.0)\n",
      "Requirement already satisfied: six>=1.5 in ./venv/lib/python3.13/site-packages (from python-dateutil>=2.8.2->pandas) (1.17.0)\n"
     ]
    }
   ],
   "source": [
    "# FAERS ROR and PRR analysis with deduplication\n",
    "# Version v1.0\n",
    "# Djamilla Simoens\n",
    "\n",
    "# =============================\n",
    "# 1️⃣ Install Dependencies\n",
    "# =============================\n",
    "\n",
    "# In Jupyter Notebook, run this cell first:\n",
    "!pip install pandas numpy scipy openpyxl tqdm\n"
   ]
  },
  {
   "cell_type": "code",
   "execution_count": 2,
   "id": "64057653-f89b-445e-8c75-0934c83086b3",
   "metadata": {},
   "outputs": [],
   "source": [
    "# =============================\n",
    "# 2️⃣ Import Libraries\n",
    "# =============================\n",
    "\n",
    "import pandas as pd\n",
    "import numpy as np\n",
    "import os\n",
    "import glob\n",
    "from scipy.stats import fisher_exact, chi2_contingency\n",
    "from tqdm import tqdm\n"
   ]
  },
  {
   "cell_type": "code",
   "execution_count": 3,
   "id": "9bd07402-895c-4dbd-ba6b-700a042c694b",
   "metadata": {},
   "outputs": [],
   "source": [
    "# =============================\n",
    "# 3️⃣ User Input\n",
    "# =============================\n",
    "# Type the name of the drug and adverse reactions of interest\n",
    "\n",
    "drug_synonyms = ['LUXTURNA', 'VORETIGENE NEPARVOVEC']\n",
    "event_synonyms = ['Retinal degeneration', 'RETINAL ATROPHY', 'FOVEAL ATROPHY', 'RETINAL DEPIGMENTATION', 'INJECTION SITE ATROPHY']\n",
    "data_dir = './faers_data'  # Update with your FAERS TXT folder"
   ]
  },
  {
   "cell_type": "code",
   "execution_count": 4,
   "id": "ebadb78d-7f99-4a9e-9da2-c762431c1af3",
   "metadata": {},
   "outputs": [
    {
     "name": "stderr",
     "output_type": "stream",
     "text": [
      "Loading DRUG: 100%|█████████████████████████████| 30/30 [04:23<00:00,  8.79s/it]\n",
      "Loading REAC: 100%|█████████████████████████████| 30/30 [00:51<00:00,  1.73s/it]\n"
     ]
    },
    {
     "name": "stdout",
     "output_type": "stream",
     "text": [
      "Total DRUG records: 56301263\n",
      "Total REACTION records: 42727091\n"
     ]
    }
   ],
   "source": [
    "# =============================\n",
    "# 4️⃣ Load and Concatenate FAERS Data\n",
    "# =============================\n",
    "\n",
    "def load_files(folder, pattern):\n",
    "    files = sorted(glob.glob(os.path.join(folder, pattern)))\n",
    "    dfs = []\n",
    "    for file in tqdm(files, desc=f\"Loading {pattern.split('*')[0]}\"):\n",
    "        try:\n",
    "            df = pd.read_csv(file, sep='$', dtype=str, encoding='utf-8', low_memory=False)\n",
    "            dfs.append(df)\n",
    "        except UnicodeDecodeError:\n",
    "            try:\n",
    "                df = pd.read_csv(file, sep='$', dtype=str, encoding='latin1', low_memory=False)\n",
    "                dfs.append(df)\n",
    "            except Exception as e:\n",
    "                print(f\"Failed to load {file}: {e}\")\n",
    "        except Exception as e:\n",
    "            print(f\"Failed to load {file}: {e}\")\n",
    "    return pd.concat(dfs, ignore_index=True) if dfs else pd.DataFrame()\n",
    "\n",
    "df_drug = load_files(data_dir, 'DRUG*.txt')\n",
    "df_reac = load_files(data_dir, 'REAC*.txt')\n",
    "print(f\"Total DRUG records: {len(df_drug)}\")\n",
    "print(f\"Total REACTION records: {len(df_reac)}\")\n"
   ]
  },
  {
   "cell_type": "code",
   "execution_count": 5,
   "id": "c0643e5f-9303-42a9-97a4-ba61157d583f",
   "metadata": {},
   "outputs": [
    {
     "name": "stdout",
     "output_type": "stream",
     "text": [
      "Filtering suspect drugs...\n",
      " VigiMatch-style DRUG duplicates removed: 23785 (from 12937001 → 12913216)\n"
     ]
    }
   ],
   "source": [
    "# =============================\n",
    "# 5️⃣ Preprocessing\n",
    "# =============================\n",
    "\n",
    "print(\"Filtering suspect drugs...\")\n",
    "df_drug_ps = df_drug[df_drug['role_cod'].str.upper() == 'PS'].copy()\n",
    "df_drug_ps['drugname'] = df_drug_ps['drugname'].fillna('').str.upper()\n",
    "df_reac['pt'] = df_reac['pt'].fillna('').str.upper()\n",
    "\n",
    "# Normalize and deduplicate drug names using VigiMatch-style rules\n",
    "\n",
    "def normalize_name(name):\n",
    "    if not isinstance(name, str):\n",
    "        return ''\n",
    "    name = name.upper()\n",
    "    for synonym in drug_synonyms:\n",
    "        if synonym.upper() in name:\n",
    "            return synonym.upper()\n",
    "    return name\n",
    "\n",
    "df_drug_ps['drugname_norm'] = df_drug_ps['drugname'].apply(normalize_name)\n",
    "\n",
    "# Apply VigiMatch-style deduplication: keep only first entry per (primaryid, drugname_norm, route, dose_vbm)\n",
    "dedup_columns = ['primaryid', 'drugname_norm', 'route', 'dose_vbm']\n",
    "df_drug_ps_before = len(df_drug_ps)\n",
    "df_drug_ps_unique = df_drug_ps.sort_values(by='primaryid').drop_duplicates(subset=dedup_columns)\n",
    "df_drug_ps_after = len(df_drug_ps_unique)\n",
    "duplicates_removed_drug = df_drug_ps_before - df_drug_ps_after\n",
    "print(f\" VigiMatch-style DRUG duplicates removed: {duplicates_removed_drug} (from {df_drug_ps_before} → {df_drug_ps_after})\")\n"
   ]
  },
  {
   "cell_type": "code",
   "execution_count": 6,
   "id": "c39af1b6-dbb0-48db-9abe-5250e08b426a",
   "metadata": {},
   "outputs": [],
   "source": [
    "# =============================\n",
    "# 6️⃣ Matching Logic\n",
    "# =============================\n",
    "\n",
    "isr_drug = set()\n",
    "for name in drug_synonyms:\n",
    "    name = name.upper()\n",
    "    matches = df_drug_ps_unique[df_drug_ps_unique['drugname_norm'] == name]['primaryid'].unique()\n",
    "    isr_drug.update(matches)\n",
    "\n",
    "isr_event = set()\n",
    "for name in event_synonyms:\n",
    "    name = name.upper()\n",
    "    matches = df_reac[df_reac['pt'].str.contains(name, na=False, regex=False)]['primaryid'].unique()\n",
    "    isr_event.update(matches)\n"
   ]
  },
  {
   "cell_type": "code",
   "execution_count": 7,
   "id": "0635afb5-720b-487a-af45-03d32f0c3e4e",
   "metadata": {},
   "outputs": [
    {
     "name": "stdout",
     "output_type": "stream",
     "text": [
      "Contingency Table:\n",
      "A: 59\n",
      "B: 150\n",
      "C: 1718\n",
      "D: 12876858\n"
     ]
    }
   ],
   "source": [
    "# =============================\n",
    "# 7️⃣ Contingency Table\n",
    "# =============================\n",
    "\n",
    "A = len(isr_drug & isr_event)  # Drug + Event\n",
    "B = len(isr_drug - isr_event)  # Drug + No Event\n",
    "C = len(isr_event - isr_drug)  # Event + No Drug\n",
    "all_isr = set(df_drug['primaryid'].unique())\n",
    "D = len(all_isr - (isr_drug | isr_event))  # Neither\n",
    "\n",
    "print(f\"Contingency Table:\\nA: {A}\\nB: {B}\\nC: {C}\\nD: {D}\")\n"
   ]
  },
  {
   "cell_type": "code",
   "execution_count": 8,
   "id": "277b6317-2cbf-49d8-9052-cb18eb046575",
   "metadata": {},
   "outputs": [],
   "source": [
    "# =============================\n",
    "# 8️⃣ Statistics\n",
    "# =============================\n",
    "\n",
    "contingency_table = np.array([[A, B], [C, D]])\n",
    "ROR = (A / B) / (C / D) if B > 0 and C > 0 and D > 0 else np.nan\n",
    "\n",
    "# PRR calculation\n",
    "prr_numerator = A / (A + B) if (A + B) > 0 else np.nan\n",
    "prr_denominator = (A + C) / (A + B + C + D) if (A + B + C + D) > 0 else np.nan\n",
    "PRR = prr_numerator / prr_denominator if prr_denominator > 0 else np.nan\n",
    "\n",
    "oddsr, p_fisher = fisher_exact(contingency_table)\n",
    "chi2, p_chi2, dof, expected = chi2_contingency(contingency_table)\n",
    "SE = np.sqrt(1/A + 1/B + 1/C + 1/D) if A*B*C*D > 0 else np.nan\n",
    "lower_CI = np.exp(np.log(ROR) - 1.96 * SE) if not np.isnan(SE) else np.nan\n",
    "upper_CI = np.exp(np.log(ROR) + 1.96 * SE) if not np.isnan(SE) else np.nan\n"
   ]
  },
  {
   "cell_type": "code",
   "execution_count": 9,
   "id": "304f11ca-ee99-4794-b887-228f9aa29a37",
   "metadata": {},
   "outputs": [
    {
     "name": "stdout",
     "output_type": "stream",
     "text": [
      "  Database                          Drug(s)  \\\n",
      "0    FAERS  LUXTURNA, VORETIGENE NEPARVOVEC   \n",
      "\n",
      "                                            Event(s)  A (Drug+Event)  \\\n",
      "0  Retinal degeneration, RETINAL ATROPHY, FOVEAL ...              59   \n",
      "\n",
      "   B (Drug+No Event)  C (Event+No Drug)  D (Neither)          ROR  \\\n",
      "0                150               1718     12876858  2948.135902   \n",
      "\n",
      "   ROR 95% CI Lower  ROR 95% CI Upper          PRR  Fisher p-value  \\\n",
      "0       2173.375358       3999.081551  2045.941402   4.178955e-176   \n",
      "\n",
      "   Chi2 p-value  DRUG Duplicates Removed  Original DRUG Records  \n",
      "0           0.0                    23785               12937001  \n",
      "Results exported to FAERS_ROR_PRR_Results.xlsx\n"
     ]
    }
   ],
   "source": [
    "# =============================\n",
    "# 9️⃣ Output Results\n",
    "# =============================\n",
    "\n",
    "results = {\n",
    "    'Database': 'FAERS',\n",
    "    'Drug(s)': \", \".join(drug_synonyms),\n",
    "    'Event(s)': \", \".join(event_synonyms),\n",
    "    'A (Drug+Event)': A,\n",
    "    'B (Drug+No Event)': B,\n",
    "    'C (Event+No Drug)': C,\n",
    "    'D (Neither)': D,\n",
    "    'ROR': ROR,\n",
    "    'ROR 95% CI Lower': lower_CI,\n",
    "    'ROR 95% CI Upper': upper_CI,\n",
    "    'PRR': PRR,\n",
    "    'Fisher p-value': p_fisher,\n",
    "    'Chi2 p-value': p_chi2,\n",
    "    'DRUG Duplicates Removed': duplicates_removed_drug,\n",
    "    'Original DRUG Records': df_drug_ps_before\n",
    "}\n",
    "\n",
    "result_df = pd.DataFrame([results])\n",
    "print(result_df)\n",
    "\n",
    "output_file = 'FAERS_ROR_PRR_Results.xlsx'\n",
    "result_df.to_excel(output_file, index=False)\n",
    "print(f\"Results exported to {output_file}\")"
   ]
  }
 ],
 "metadata": {
  "kernelspec": {
   "display_name": "Python 3 (ipykernel)",
   "language": "python",
   "name": "python3"
  },
  "language_info": {
   "codemirror_mode": {
    "name": "ipython",
    "version": 3
   },
   "file_extension": ".py",
   "mimetype": "text/x-python",
   "name": "python",
   "nbconvert_exporter": "python",
   "pygments_lexer": "ipython3",
   "version": "3.13.5"
  }
 },
 "nbformat": 4,
 "nbformat_minor": 5
}
